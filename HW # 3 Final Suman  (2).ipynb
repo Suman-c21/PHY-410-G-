{
 "cells": [
  {
   "cell_type": "markdown",
   "metadata": {},
   "source": [
    "Homework # 3"
   ]
  },
  {
   "cell_type": "markdown",
   "metadata": {},
   "source": [
    "Question: 1 "
   ]
  },
  {
   "cell_type": "markdown",
   "metadata": {},
   "source": [
    "A sample of silver has a mass $m$ (in grams) and a temperature of 16$^o$C. The sample is heated until it is completely melted. The melting temperature of silver is 1235.08$\\,$K, the specific heat capacity of silver is 236$\\,$J/(kg$\\,$K), and the heat of fusion $L_f$ is 105.0$\\,$kJ/kg. Write a Python script that will ask the user for the mass of the sample, and will return the minimum amount of heat in kilo-Joules required to completely melt the sample. (3 points)"
   ]
  },
  {
   "cell_type": "code",
   "execution_count": 2,
   "metadata": {},
   "outputs": [
    {
     "name": "stdout",
     "output_type": "stream",
     "text": [
      "What is the mass of silver? \n",
      "1\n",
      "The mass of Silver is  =  1 gm\n",
      "The amount of heat required is, (Q) = 0.33 KJ\n"
     ]
    }
   ],
   "source": [
    "import sys\n",
    "M = input('What is the mass of silver? \\n') # Mass in gm\n",
    "print('The mass of Silver is  = ', M, 'gm')\n",
    "S = 236. # Specific Heat Capacity of Silver (J/Kg K).\n",
    "M = float(M)\n",
    "m = (M/1000.)\n",
    "T1 = 289. # Initial temperature (Kelvin).\n",
    "T2 = 1235.08 # Final temperature (Kelvin).\n",
    "T = (1235.08 - 289.) # Change in temperature (Kelvin).\n",
    "Q1 = (m*S*T) #Amount of heat required to change the temperature from T1 to T2\n",
    "L = 105000. # Latent heat of fusion (J).\n",
    "Q2 = (m*L) # Amount of heat required with in same temperature (J)\n",
    "Q = (Q1 + Q2)/1000.0 # Total amount of heat required (KJ)\n",
    "print('The amount of heat required is, (Q) = %3.2f' %Q,'KJ')"
   ]
  },
  {
   "cell_type": "markdown",
   "metadata": {},
   "source": [
    "Question: 2"
   ]
  },
  {
   "cell_type": "markdown",
   "metadata": {},
   "source": [
    "A particle is confined to a two dimensional surface. The trajectory of the particle is given by the vector:\n",
    "\n",
    "$$ \\mathbf{r} (t) = \\frac{ \\alpha ~ cos(\\omega~t)~\\mathbf{i} + \\{\\alpha ~ sin(\\omega~t) + 0.3 \\, \\alpha \\} ~\\mathbf{j}}{\\sqrt{0.1+\\beta t} } $$\n",
    "\n",
    "\n",
    "where $\\mathbf i$ and $\\mathbf j$ are unit vectors, $\\alpha = 1\\,$m, $\\beta = 1\\,$Hz, $\\omega = \\pi/5\\,$rad$\\,$Hz, and $t$ is measured in seconds. Write a Python script to:\n",
    "\n",
    "a) obtain the (x,y) coordinates of the particle every 0.1$\\,$s from $t$ = 0$\\,$s to 100$\\,$s, and save them in a data (ascii) file containing three columns: time, x and y coordinates (4 points)"
   ]
  },
  {
   "cell_type": "code",
   "execution_count": 4,
   "metadata": {},
   "outputs": [
    {
     "data": {
      "image/png": "[encoded data removed]",
      "text/plain": [
       "<Figure size 432x288 with 1 Axes>"
      ]
     },
     "metadata": {
      "needs_background": "light"
     },
     "output_type": "display_data"
    },
    {
     "data": {
      "text/plain": [
       "<Figure size 432x288 with 0 Axes>"
      ]
     },
     "metadata": {},
     "output_type": "display_data"
    }
   ],
   "source": [
    "import numpy as np\n",
    "myfile = open('data.ascii','w')\n",
    "import numpy as np\n",
    "for i in range(0,1001,1):\n",
    "  t = 0.1*i\n",
    "  x = 1* (np.cos((np.pi/5)*t))/(np.sqrt(0.1 + 1*t))\n",
    "  y = 1*((np.sin((np.pi/5)*t)) + 0.3* 1 )/(np.sqrt(0.1+1*t))\n",
    "  print>> myfile,'%1.1f \\t %1.5f \\t %1.5f' %(t,x,y)\n",
    "myfile.close()\n",
    "\n",
    "#\n",
    "# plot.py: script to plot data from a file with two columns\n",
    "#\n",
    "# to run: execfile('plot.py')\n",
    "#\n",
    "# Input: data file data.dat\n",
    "#\n",
    "\n",
    "#Load libraries\n",
    "from matplotlib.pyplot import *\n",
    "from numpy import loadtxt\n",
    "from pylab import *\n",
    "\n",
    "#to have the plots in the notebook:\n",
    "#%matplotlib inline\n",
    "\n",
    "#load the data\n",
    "spectrum = loadtxt(\"data.ascii\",dtype=\"float\")\n",
    "x = spectrum[:,1]\n",
    "y = spectrum[:,2]\n",
    "\n",
    "\n",
    "#plot the line and the dots\n",
    "line1 = plot(x,y,'r--',linewidth=2.0)#, label = \"Interpolation\")\n",
    "line2 = plot(x,y,'s',markersize = 5,color='b')#, label = \"Dots\")\n",
    "\n",
    "#legend\n",
    "#legend(numpoints=2)\n",
    "\n",
    "\n",
    "# x and y limits\n",
    "xlim(-0.5,1.0)\n",
    "ylim(-0.4,1.0)\n",
    "\n",
    "\n",
    "\n",
    "#define a font type\n",
    "font1 = {'fontname'   : 'Times New roman',\n",
    "        'color'      : 'black',\n",
    "        'fontweight' : 'normal', #could have been bold\n",
    "        'fontsize'   : 14}\n",
    "\n",
    "font2 = {'fontname'   : 'Times New roman',\n",
    "        'color'      : 'black',\n",
    "        'fontweight' : 'normal', #could have been bold\n",
    "        'fontsize'   : 14}\n",
    "\n",
    "\n",
    "#title and labels\n",
    "title('Trajectory of the particle. ',font1,fontsize=18)\n",
    "xlabel('X$(m)$',font1)\n",
    "ylabel('Y$(m)$',font2)\n",
    "#text(4, 6, r' Just for Fun: $\\sum_{i=0}^\\infty\\, x_i$', fontsize=20)\n",
    "\n",
    "\n",
    "#show figure and save in eps format\n",
    "show()\n",
    "savefig(\"myplot.eps\")"
   ]
  },
  {
   "cell_type": "code",
   "execution_count": null,
   "metadata": {},
   "outputs": [],
   "source": []
  }
 ],
 "metadata": {
  "kernelspec": {
   "display_name": "Python 2",
   "language": "python",
   "name": "python2"
  },
  "language_info": {
   "codemirror_mode": {
    "name": "ipython",
    "version": 2
   },
   "file_extension": ".py",
   "mimetype": "text/x-python",
   "name": "python",
   "nbconvert_exporter": "python",
   "pygments_lexer": "ipython2",
   "version": "2.7.16"
  }
 },
 "nbformat": 4,
 "nbformat_minor": 2
}
